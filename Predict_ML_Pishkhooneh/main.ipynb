{
  "cells": [
    {
      "cell_type": "code",
      "execution_count": 1,
      "metadata": {
        "id": "HPNU4g99u6a4"
      },
      "outputs": [],
      "source": [
        "import json\n",
        "import pandas as pd\n",
        "import numpy as np\n",
        "from pandas import json_normalize\n",
        "from sklearn import linear_model\n",
        "from sklearn.metrics import r2_score, mean_squared_error, f1_score\n",
        "from sklearn.preprocessing import StandardScaler,MinMaxScaler\n",
        "from sklearn.model_selection import train_test_split\n",
        "from sklearn.metrics import classification_report\n",
        "import plotly.express as px\n",
        "import matplotlib.pyplot as plt"
      ]
    },
    {
      "cell_type": "code",
      "execution_count": 2,
      "metadata": {
        "colab": {
          "base_uri": "https://localhost:8080/",
          "height": 235
        },
        "id": "Q0jqjw-nOviV",
        "outputId": "1fb4c8b7-3edd-486b-f612-b31c38e5b873"
      },
      "outputs": [
        {
          "data": {
            "text/plain": [
              "Index(['identifier', 'title', 'totalPrice', 'unitPrice', 'images', 'age',\n",
              "       'floorArea', 'floorAreaUnit', 'numOfBeds', 'numberOfParking',\n",
              "       'description', 'seoDescription', 'bread_crumbs',\n",
              "       'location.locationName', 'location.longitude', 'location.latitude',\n",
              "       'location.targetGlobalLocation.id',\n",
              "       'location.targetGlobalLocation.type', 'type.landuseType',\n",
              "       'type.propertyType', 'features.parking', 'features.lobby',\n",
              "       'features.warehouse', 'features.sports_hall', 'features.guard',\n",
              "       'features.elevator', 'features.balcony', 'features.swimming_pool',\n",
              "       'features.sauna', 'features.air_conditioning',\n",
              "       'features.conference_hall', 'features.roof_garden',\n",
              "       'features.remote_door', 'features.jacuzzi', 'features.central_antenna',\n",
              "       'contact.type', 'contact.fullName', 'contact.callNumber',\n",
              "       'contact.departmentName', 'contact.departmentLogoUrl',\n",
              "       'contact.departmentId', 'contact.whatsappAvailibility', 'graph.content',\n",
              "       'features.null', 'contact.status', 'contact.message', 'graph.status',\n",
              "       'graph.message', 'graph', 'contact'],\n",
              "      dtype='object')"
            ]
          },
          "execution_count": 2,
          "metadata": {},
          "output_type": "execute_result"
        }
      ],
      "source": [
        "with open('houses.json','r', encoding='utf-8') as json_file:\n",
        "    data = json.load(json_file)\n",
        "totalData = data.get('data')\n",
        "df = json_normalize(totalData)\n",
        "df.columns"
      ]
    },
    {
      "cell_type": "code",
      "execution_count": 3,
      "metadata": {
        "id": "HvbOFzLsOzxA"
      },
      "outputs": [],
      "source": [
        "df.drop('features.null', axis=1, inplace=True)"
      ]
    },
    {
      "cell_type": "code",
      "execution_count": 4,
      "metadata": {
        "id": "xrkMgTPXRCmR"
      },
      "outputs": [
        {
          "name": "stdout",
          "output_type": "stream",
          "text": [
            "['totalPrice', 'floorArea', 'numOfBeds', 'features.parking', 'features.lobby', 'features.warehouse', 'features.sports_hall', 'features.guard', 'features.elevator', 'features.balcony', 'features.swimming_pool', 'features.sauna', 'features.air_conditioning', 'features.conference_hall', 'features.roof_garden', 'features.remote_door', 'features.jacuzzi', 'features.central_antenna']\n"
          ]
        }
      ],
      "source": [
        "recordFeatures = {\n",
        "    'پارکینگ': 'parking',\n",
        "    'لابی': 'lobby',\n",
        "    'انباری': 'warehouse',\n",
        "    'سالن ورزش': 'sports_hall',\n",
        "    'نگهبان': 'guard',\n",
        "    'آسانسور': 'elevator',\n",
        "    'بالکن': 'balcony',\n",
        "    'استخر': 'swimming_pool',\n",
        "    'سونا': 'sauna',\n",
        "    'تهویه مطبوع': 'air_conditioning',\n",
        "    'سالن اجتماعات': 'conference_hall',\n",
        "    'روف گاردن': 'roof_garden',\n",
        "    'درب ریموت': 'remote_door',\n",
        "    'جکوزی': 'jacuzzi',\n",
        "    'آنتن مرکزی': 'central_antenna',\n",
        "}\n",
        "features = ['totalPrice', 'floorArea', 'numOfBeds']\n",
        "recordFeaturesColumns=[]\n",
        "for item in recordFeatures.items():\n",
        "  recordFeaturesColumns.append('features.' + item[1])\n",
        "features.extend(recordFeaturesColumns.copy())\n",
        "print(features)"
      ]
    },
    {
      "cell_type": "code",
      "execution_count": 5,
      "metadata": {
        "id": "LL-0CkLme-Q6"
      },
      "outputs": [
        {
          "name": "stdout",
          "output_type": "stream",
          "text": [
            "Index(['totalPrice', 'floorArea', 'numOfBeds', 'features.parking',\n",
            "       'features.lobby', 'features.warehouse', 'features.sports_hall',\n",
            "       'features.guard', 'features.elevator', 'features.balcony',\n",
            "       'features.swimming_pool', 'features.sauna', 'features.air_conditioning',\n",
            "       'features.conference_hall', 'features.roof_garden',\n",
            "       'features.remote_door', 'features.jacuzzi', 'features.central_antenna'],\n",
            "      dtype='object')\n"
          ]
        }
      ],
      "source": [
        "df = df[features]\n",
        "df.dropna(inplace=True)\n",
        "print(df.columns)\n",
        "newPrice=[]\n",
        "for item in df[\"totalPrice\"]:\n",
        "    newPrice.append(int(str(item)[:4]))\n",
        "df['totalPrice'] = df['totalPrice'].replace(np.asanyarray(df[\"totalPrice\"]), newPrice)"
      ]
    },
    {
      "cell_type": "code",
      "execution_count": 6,
      "metadata": {
        "id": "YXvFBehFhZU-"
      },
      "outputs": [],
      "source": [
        "for item in recordFeaturesColumns:\n",
        "  df[item]=df[item].astype('category').cat.codes"
      ]
    },
    {
      "cell_type": "code",
      "execution_count": 7,
      "metadata": {
        "id": "axItYNqgRFq0"
      },
      "outputs": [
        {
          "data": {
            "text/html": [
              "<div>\n",
              "<style scoped>\n",
              "    .dataframe tbody tr th:only-of-type {\n",
              "        vertical-align: middle;\n",
              "    }\n",
              "\n",
              "    .dataframe tbody tr th {\n",
              "        vertical-align: top;\n",
              "    }\n",
              "\n",
              "    .dataframe thead th {\n",
              "        text-align: right;\n",
              "    }\n",
              "</style>\n",
              "<table border=\"1\" class=\"dataframe\">\n",
              "  <thead>\n",
              "    <tr style=\"text-align: right;\">\n",
              "      <th></th>\n",
              "      <th>totalPrice</th>\n",
              "      <th>floorArea</th>\n",
              "      <th>numOfBeds</th>\n",
              "      <th>features.parking</th>\n",
              "      <th>features.lobby</th>\n",
              "      <th>features.warehouse</th>\n",
              "      <th>features.sports_hall</th>\n",
              "      <th>features.guard</th>\n",
              "      <th>features.elevator</th>\n",
              "      <th>features.balcony</th>\n",
              "      <th>features.swimming_pool</th>\n",
              "      <th>features.sauna</th>\n",
              "      <th>features.air_conditioning</th>\n",
              "      <th>features.conference_hall</th>\n",
              "      <th>features.roof_garden</th>\n",
              "      <th>features.remote_door</th>\n",
              "      <th>features.jacuzzi</th>\n",
              "      <th>features.central_antenna</th>\n",
              "    </tr>\n",
              "  </thead>\n",
              "  <tbody>\n",
              "    <tr>\n",
              "      <th>0</th>\n",
              "      <td>3100.0</td>\n",
              "      <td>47.0</td>\n",
              "      <td>1.0</td>\n",
              "      <td>0</td>\n",
              "      <td>0</td>\n",
              "      <td>1</td>\n",
              "      <td>0</td>\n",
              "      <td>0</td>\n",
              "      <td>1</td>\n",
              "      <td>0</td>\n",
              "      <td>0</td>\n",
              "      <td>0</td>\n",
              "      <td>1</td>\n",
              "      <td>0</td>\n",
              "      <td>0</td>\n",
              "      <td>1</td>\n",
              "      <td>0</td>\n",
              "      <td>0</td>\n",
              "    </tr>\n",
              "    <tr>\n",
              "      <th>1</th>\n",
              "      <td>1449.0</td>\n",
              "      <td>223.0</td>\n",
              "      <td>4.0</td>\n",
              "      <td>0</td>\n",
              "      <td>0</td>\n",
              "      <td>1</td>\n",
              "      <td>0</td>\n",
              "      <td>0</td>\n",
              "      <td>1</td>\n",
              "      <td>1</td>\n",
              "      <td>0</td>\n",
              "      <td>0</td>\n",
              "      <td>1</td>\n",
              "      <td>0</td>\n",
              "      <td>0</td>\n",
              "      <td>1</td>\n",
              "      <td>0</td>\n",
              "      <td>0</td>\n",
              "    </tr>\n",
              "  </tbody>\n",
              "</table>\n",
              "</div>"
            ],
            "text/plain": [
              "   totalPrice  floorArea  numOfBeds  features.parking  features.lobby  \\\n",
              "0      3100.0       47.0        1.0                 0               0   \n",
              "1      1449.0      223.0        4.0                 0               0   \n",
              "\n",
              "   features.warehouse  features.sports_hall  features.guard  \\\n",
              "0                   1                     0               0   \n",
              "1                   1                     0               0   \n",
              "\n",
              "   features.elevator  features.balcony  features.swimming_pool  \\\n",
              "0                  1                 0                       0   \n",
              "1                  1                 1                       0   \n",
              "\n",
              "   features.sauna  features.air_conditioning  features.conference_hall  \\\n",
              "0               0                          1                         0   \n",
              "1               0                          1                         0   \n",
              "\n",
              "   features.roof_garden  features.remote_door  features.jacuzzi  \\\n",
              "0                     0                     1                 0   \n",
              "1                     0                     1                 0   \n",
              "\n",
              "   features.central_antenna  \n",
              "0                         0  \n",
              "1                         0  "
            ]
          },
          "execution_count": 7,
          "metadata": {},
          "output_type": "execute_result"
        }
      ],
      "source": [
        "df.head(2)"
      ]
    },
    {
      "cell_type": "code",
      "execution_count": 8,
      "metadata": {
        "id": "vRQ_XKVuRpiH"
      },
      "outputs": [
        {
          "name": "stdout",
          "output_type": "stream",
          "text": [
            "[[  1.   0.   0. ...   1.  47.   1.]\n",
            " [  1.   1.   0. ...   1. 223.   4.]\n",
            " [  1.   0.   0. ...   1. 134.   2.]\n",
            " ...\n",
            " [  0.   1.   0. ...   1.  55.   1.]\n",
            " [  0.   1.   0. ...   1.  60.   2.]\n",
            " [  1.   0.   1. ...   1.  63.   1.]]\n",
            "[3100. 1449. 1540. ... 2850. 2900. 3500.]\n"
          ]
        }
      ],
      "source": [
        "x = np.asanyarray(df[df.columns.difference(['totalPrice'])])\n",
        "y = np.asanyarray(df['totalPrice'])\n",
        "print(x)\n",
        "print(y)"
      ]
    },
    {
      "cell_type": "code",
      "execution_count": 9,
      "metadata": {
        "id": "vRzWpSuxR3XD"
      },
      "outputs": [],
      "source": [
        "x_train, x_test, y_train, y_test = train_test_split( x, y, test_size=0.1, random_state=0)"
      ]
    },
    {
      "cell_type": "code",
      "execution_count": 10,
      "metadata": {
        "id": "MVcuwRJLkl03"
      },
      "outputs": [],
      "source": [
        "x_train = StandardScaler().fit_transform(x_train)\n",
        "x_test = StandardScaler().fit_transform(x_test)"
      ]
    },
    {
      "cell_type": "code",
      "execution_count": 11,
      "metadata": {
        "id": "zgc2swhZR80P"
      },
      "outputs": [],
      "source": [
        "reg = linear_model.LinearRegression()\n",
        "reg.fit(x_train, y_train)\n",
        "y_pred = reg.predict(x_test)"
      ]
    },
    {
      "cell_type": "code",
      "execution_count": 12,
      "metadata": {
        "id": "NB8wnQ9dSB9X"
      },
      "outputs": [
        {
          "name": "stdout",
          "output_type": "stream",
          "text": [
            "[4076.98799635 3892.65263879 4153.92528989 4681.33341694 4541.20668217]\n",
            "[3200. 8560. 5800. 6000. 1900.]\n",
            "r2_score =>  0.06325215940283746\n",
            "MSE =>  5871061.3473228505\n"
          ]
        }
      ],
      "source": [
        "print(y_pred[:5])\n",
        "print(y_test[:5])\n",
        "linearReg_acc=r2_score(y_test, y_pred)\n",
        "linearReg_mse=mean_squared_error(y_test, y_pred)\n",
        "print('r2_score => ', linearReg_acc)\n",
        "print('MSE => ', linearReg_mse)"
      ]
    },
    {
      "cell_type": "code",
      "execution_count": 13,
      "metadata": {
        "id": "P8AbZwu_SzV5"
      },
      "outputs": [
        {
          "data": {
            "text/plain": [
              "<matplotlib.collections.PathCollection at 0x234c89e6b50>"
            ]
          },
          "execution_count": 13,
          "metadata": {},
          "output_type": "execute_result"
        },
        {
          "data": {
            "image/png": "[encoded data removed]",
            "text/plain": [
              "<Figure size 432x288 with 1 Axes>"
            ]
          },
          "metadata": {
            "needs_background": "light"
          },
          "output_type": "display_data"
        }
      ],
      "source": [
        "plt.scatter(y_test,y_pred)"
      ]
    },
    {
      "cell_type": "code",
      "execution_count": 14,
      "metadata": {
        "id": "CVMft6wIfqVq"
      },
      "outputs": [],
      "source": [
        "from sklearn import metrics,svm"
      ]
    },
    {
      "cell_type": "code",
      "execution_count": 15,
      "metadata": {
        "id": "-_F04ZreVn_-"
      },
      "outputs": [
        {
          "name": "stdout",
          "output_type": "stream",
          "text": [
            "r2_score =>  -0.25947587364817015\n",
            "MSE =>  7893757.315680166\n"
          ]
        }
      ],
      "source": [
        "kernels=['linear', 'poly', 'rbf', 'sigmoid']\n",
        "cell_svm=svm.SVC(kernel='sigmoid')\n",
        "cell_svm.fit(x_train, y_train)\n",
        "y_pred_svm=cell_svm.predict(x_test)\n",
        "sigmoidSVM_acc=r2_score(y_test, y_pred_svm)\n",
        "sigmoidSVM_mse=mean_squared_error(y_test, y_pred_svm)\n",
        "print('r2_score => ', sigmoidSVM_acc)\n",
        "print('MSE => ', sigmoidSVM_mse)"
      ]
    },
    {
      "cell_type": "code",
      "execution_count": 17,
      "metadata": {
        "id": "CVraG3TrhBbo"
      },
      "outputs": [
        {
          "name": "stdout",
          "output_type": "stream",
          "text": [
            "r2_score =>  -0.6366465246371373\n",
            "MSE =>  10257672.05815161\n"
          ]
        }
      ],
      "source": [
        "cell_svm=svm.SVC(kernel='poly')\n",
        "cell_svm.fit(x_train, y_train)\n",
        "y_pred_svm=cell_svm.predict(x_test)\n",
        "polySVM_acc=r2_score(y_test, y_pred_svm)\n",
        "polySVM_mse=mean_squared_error(y_test, y_pred_svm)\n",
        "print('r2_score => ', polySVM_acc)\n",
        "print('MSE => ', polySVM_mse)"
      ]
    },
    {
      "cell_type": "code",
      "execution_count": 21,
      "metadata": {
        "id": "It6dgabViC4F"
      },
      "outputs": [
        {
          "name": "stdout",
          "output_type": "stream",
          "text": [
            "linearReg_acc 0.06325215940283746\n",
            "sigmoidSVM_acc -0.25947587364817015\n",
            "linearReg_acc -0.6366465246371373\n",
            "--------------\n",
            "linearReg_mse =>  5871061.3473228505\n",
            "sigmoidSVM_mse =>  7893757.315680166\n",
            "sigmoidSVM_mse =>  7893757.315680166\n",
            "polySVM_mse =>  10257672.05815161\n"
          ]
        }
      ],
      "source": [
        "print('linearReg_acc',linearReg_acc)\n",
        "print('sigmoidSVM_acc',sigmoidSVM_acc)\n",
        "print('linearReg_acc',polySVM_acc)\n",
        "print('--------------')\n",
        "print('linearReg_mse => ', linearReg_mse)\n",
        "print('sigmoidSVM_mse => ', sigmoidSVM_mse)\n",
        "print('sigmoidSVM_mse => ', sigmoidSVM_mse)\n",
        "print('polySVM_mse => ', polySVM_mse)"
      ]
    }
  ],
  "metadata": {
    "colab": {
      "provenance": []
    },
    "gpuClass": "standard",
    "kernelspec": {
      "display_name": "Python 3.9.6 64-bit",
      "language": "python",
      "name": "python3"
    },
    "language_info": {
      "codemirror_mode": {
        "name": "ipython",
        "version": 3
      },
      "file_extension": ".py",
      "mimetype": "text/x-python",
      "name": "python",
      "nbconvert_exporter": "python",
      "pygments_lexer": "ipython3",
      "version": "3.9.6 (tags/v3.9.6:db3ff76, Jun 28 2021, 15:26:21) [MSC v.1929 64 bit (AMD64)]"
    },
    "vscode": {
      "interpreter": {
        "hash": "14958d3aee5f1cad06795f787e54b96185c25fb40dfec723a5be941f3a531b8c"
      }
    }
  },
  "nbformat": 4,
  "nbformat_minor": 0
}
